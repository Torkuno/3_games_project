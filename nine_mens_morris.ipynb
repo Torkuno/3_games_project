{
  "cells": [
    {
      "cell_type": "code",
      "execution_count": 2,
      "metadata": {
        "id": "19HNfC32a8jO"
      },
      "outputs": [],
      "source": [
        "#Update your token\n",
        "STUDENT_TOKEN = 'TOMAS-MESALLES'"
      ]
    },
    {
      "cell_type": "markdown",
      "metadata": {
        "id": "WDMxKi-mSUvp"
      },
      "source": [
        "Server communication game and game_loop."
      ]
    },
    {
      "cell_type": "code",
      "execution_count": 3,
      "metadata": {
        "id": "ypKQTGbIa2bV"
      },
      "outputs": [],
      "source": [
        "## ignore this code, just used for submission\n",
        "import requests\n",
        "import pprint\n",
        "import json\n",
        "import random\n",
        "import time\n",
        "from copy import copy, deepcopy\n",
        "\n",
        "class Game:\n",
        "  def __init__(self, state, status, player):\n",
        "    self.state = state\n",
        "    self.status = status\n",
        "    self.player = player\n",
        "\n",
        "  def is_waiting(self):\n",
        "    return self.status == 'waiting'\n",
        "\n",
        "  def is_end(self):\n",
        "    return self.status == 'complete'\n",
        "\n",
        "  def get_board(self):\n",
        "    print(self.state)\n",
        "    return json.loads(self.state)\n",
        "\n",
        "  def actions(self):\n",
        "    return []\n",
        "\n",
        "  def print_game(self):\n",
        "    print(self.state)\n",
        "\n",
        "def new_game(game_type, multi_player = False):\n",
        "  for _ in range(10):\n",
        "    r = requests.get('https://emarchiori.eu.pythonanywhere.com/new-game?TOKEN=%s&game-type=%s&multi-player=%s' % (STUDENT_TOKEN, game_type, 'True' if multi_player else 'False'))\n",
        "    if r.status_code == 200:\n",
        "      return r.json()['game-id']\n",
        "    print(r.content)\n",
        "\n",
        "def join_game(game_type, game_id):\n",
        "  for _ in range(10):\n",
        "    r = requests.get('https://emarchiori.eu.pythonanywhere.com/join-game?TOKEN=%s&game-type=%s&game-id=%s' % (STUDENT_TOKEN, game_type, game_id))\n",
        "    if r.status_code == 200:\n",
        "      return r.json()['player']\n",
        "    print(r.content)\n",
        "\n",
        "def game_state(game_type, game_id, GameClass):\n",
        "  for _ in range(10):\n",
        "    r = requests.get('https://emarchiori.eu.pythonanywhere.com/game-state?TOKEN=%s&game-type=%s&game-id=%s' % (STUDENT_TOKEN, game_type, game_id))\n",
        "    if r.status_code == 200:\n",
        "      return GameClass(r.json()['state'], r.json()['status'], r.json()['player'])\n",
        "    print(r.content)\n",
        "\n",
        "def update_game(game_type, game_id, player, move):\n",
        "  for _ in range(10):\n",
        "    r = requests.get('https://emarchiori.eu.pythonanywhere.com/update-game?TOKEN=%s&game-type=%s&game-id=%s&player=%s&move=%s' % (STUDENT_TOKEN, game_type, game_id, player, move))\n",
        "    if r.status_code == 200:\n",
        "      return r.content\n",
        "    print(r.content)\n",
        "\n",
        "def game_loop(solver, GameClass, game_type, multi_player=False, id=None):\n",
        "  while id == None:\n",
        "    print('\\033[92mCreating new game...\\033[0m')\n",
        "    id = new_game(game_type, multi_player)\n",
        "\n",
        "  print('\\033[92mJoining game with id: %s\\033[0m' % id)\n",
        "  player = join_game(game_type, id)\n",
        "\n",
        "  print('\\033[92mPlaying as %s\\033[0m' % player)\n",
        "\n",
        "  game = game_state(game_type, id, GameClass)\n",
        "  print('\\033[91mWaiting for the other player to join...\\033[0m')\n",
        "  while game.is_waiting():\n",
        "    time.sleep(10)\n",
        "    game = game_state(game_type, id, GameClass)\n",
        "\n",
        "  while True:\n",
        "    game = game_state(game_type, id, GameClass)\n",
        "    game.print_game()\n",
        "    if game.is_end():\n",
        "      if game.player == '-':\n",
        "        print('\\033[94mdraw\\033[0m')\n",
        "      else:\n",
        "        print('\\033[92mwinner\\033[0m' if game.player == player else '\\033[91mloser\\033[0m')\n",
        "      return\n",
        "    if game.player == player:\n",
        "      print('Making next move...')\n",
        "      move = solver(game)\n",
        "      update_result = update_game(game_type, id, player, json.dumps(move))\n",
        "      print(update_result)\n",
        "    else:\n",
        "      time.sleep(2)"
      ]
    },
    {
      "cell_type": "markdown",
      "metadata": {
        "id": "Ho3WUfJUUrgN"
      },
      "source": [
        "Random solver"
      ]
    },
    {
      "cell_type": "code",
      "execution_count": 4,
      "metadata": {
        "id": "zFCpdoKyyS3a"
      },
      "outputs": [],
      "source": [
        "def random_solver(game):\n",
        "  actions = game.actions()\n",
        "  action = random.choice(actions)\n",
        "  return action"
      ]
    },
    {
      "cell_type": "markdown",
      "metadata": {
        "id": "I6kdKWQJUwCV"
      },
      "source": [
        "Game specific code"
      ]
    },
    {
      "cell_type": "code",
      "execution_count": 5,
      "metadata": {
        "id": "r_zr2XPCyKyl"
      },
      "outputs": [],
      "source": [
        "from functools import reduce\n",
        "from copy import copy, deepcopy\n",
        "import json\n",
        "\n",
        "class NineMensMorris(Game):\n",
        "  def __init__(self, state, status, player):\n",
        "    Game.__init__(self, state, status, player)\n",
        "\n",
        "  def actions(self):\n",
        "    return self.state['actions']\n",
        "\n",
        "  def print_game(self):\n",
        "    print('Board: ' + ' '.join(self.state['board']))\n",
        "\n",
        "  def other_player(self):\n",
        "    if self.player == 'X': return 'O'\n",
        "    if self.player == 'O': return 'X'"
      ]
    },
    {
      "cell_type": "code",
      "execution_count": 6,
      "metadata": {
        "colab": {
          "base_uri": "https://localhost:8080/",
          "height": 688
        },
        "id": "lVDCr1X4SRtl",
        "outputId": "c6df16fc-15b1-4ff3-de46-bb4ec95d4dc8"
      },
      "outputs": [
        {
          "name": "stdout",
          "output_type": "stream",
          "text": [
            "\u001b[92mCreating new game...\u001b[0m\n",
            "\u001b[92mJoining game with id: 17726\u001b[0m\n",
            "\u001b[92mPlaying as O\u001b[0m\n",
            "\u001b[91mWaiting for the other player to join...\u001b[0m\n",
            "Board: . . . . . X . . . . . . . . . . . . . . . . . .\n",
            "Making next move...\n",
            "b'Valid move'\n",
            "Board: . . . O . X . . . . . . . . . . . . . . . . . X\n",
            "Making next move...\n",
            "b'Valid move'\n",
            "Board: . . . O . X . . O . . . . . . . . . . . X . . X\n",
            "Making next move...\n",
            "b'Valid move'\n",
            "Board: . . . O . X . . O . . . O . . . . . X . X . . X\n",
            "Making next move...\n",
            "b'Valid move'\n",
            "Board: . . . . . X . . O . . O O . . . . . X X X . . X\n",
            "Making next move...\n",
            "b'Valid move'\n",
            "Board: . . . . O X . . O . . O O . . . . X X X X . . X\n",
            "Making next move...\n",
            "b'Valid move'\n",
            "Board: . . . . . X . . O . . O O O . . X X X X X . . X\n",
            "Making next move...\n",
            "b'Valid move'\n",
            "Board: O . . . . X . . O . . . O O . . X X X X X . X X\n",
            "Making next move...\n",
            "b'Valid move'\n",
            "Board: O . X . . X . . O . . . O O . O X X X X X . X X\n",
            "Making next move...\n",
            "b'Valid move'\n",
            "Board: O . X . . X . O O . . . O O . O . X X X X . X X\n",
            "Making next move...\n",
            "b'Valid move'\n",
            "Board: O . . X . X . O . . . . O O . O . X X X X . X X\n",
            "Making next move...\n",
            "b'Valid move'\n",
            "Board: O . . . . X . O . . . . O O O . . X X . X . X X\n",
            "Making next move...\n",
            "b'Valid move'\n",
            "Board: O . . . . X O . . . . . O O O . . X X . X . X .\n",
            "Making next move...\n",
            "b'Valid move'\n",
            "Board: O . . . . O . . . . . . O O O . . X X . X . . X\n",
            "Making next move...\n",
            "b'Valid move'\n",
            "Board: O . . . . O . . . . . . O . O . X . X . X O . X\n",
            "Making next move...\n",
            "b'Valid move'\n",
            "Board: O . . X . . . . . . . . O O O . . . . . X O . X\n",
            "Making next move...\n",
            "b'Valid move'\n",
            "Board: O . . X . . . . . . . . O O O . . . . . X . . .\n",
            "\u001b[92mwinner\u001b[0m\n"
          ]
        }
      ],
      "source": [
        "game_loop(random_solver, NineMensMorris, 'ninemensmorris', multi_player=False, id=None)"
      ]
    }
  ],
  "metadata": {
    "colab": {
      "provenance": []
    },
    "kernelspec": {
      "display_name": "Python 3",
      "name": "python3"
    },
    "language_info": {
      "codemirror_mode": {
        "name": "ipython",
        "version": 3
      },
      "file_extension": ".py",
      "mimetype": "text/x-python",
      "name": "python",
      "nbconvert_exporter": "python",
      "pygments_lexer": "ipython3",
      "version": "3.12.6"
    }
  },
  "nbformat": 4,
  "nbformat_minor": 0
}
